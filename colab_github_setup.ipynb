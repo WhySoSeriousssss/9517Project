{
  "nbformat": 4,
  "nbformat_minor": 0,
  "metadata": {
    "colab": {
      "name": "colab.ipynb",
      "provenance": [],
      "authorship_tag": "ABX9TyNqiW9oOGiSCQFcEIB8LqZ/"
    },
    "kernelspec": {
      "name": "python3",
      "display_name": "Python 3"
    },
    "language_info": {
      "name": "python"
    }
  },
  "cells": [
    {
      "cell_type": "markdown",
      "metadata": {
        "id": "nIm_KDg_uj03"
      },
      "source": [
        "This script shows how to\n",
        "1. Mount Google drive to colab working directory\n",
        "2. Clone GitHub repository to Google Drive\n",
        "\n",
        "ref: https://towardsdatascience.com/google-drive-google-colab-github-dont-just-read-do-it-5554d5824228"
      ]
    },
    {
      "cell_type": "code",
      "metadata": {
        "id": "qcqlyJSAtwbm"
      },
      "source": [
        "# mount Google Drive to Colab\n",
        "from google.colab import drive\n",
        "drive.mount('/content/drive')"
      ],
      "execution_count": null,
      "outputs": []
    },
    {
      "cell_type": "code",
      "metadata": {
        "id": "0cx33Y9at0d2"
      },
      "source": [
        "# Clone github repository setup\n",
        "from os.path import join  \n",
        "\n",
        "# path to your project on Google Drive\n",
        "MY_GOOGLE_DRIVE_PATH = 'MyDrive/UNSW/COMP9517/Project' \n",
        "# replace with your Github username \n",
        "GIT_USERNAME = \"WhySoSeriousssss\" \n",
        "# definitely replace with yours\n",
        "GIT_TOKEN = \"000000000000000000000000000000000000\"  \n",
        "# Replace with your github repository\n",
        "GIT_REPOSITORY = \"9517Project\" \n",
        "\n",
        "PROJECT_PATH = join(\"/content/drive\", MY_GOOGLE_DRIVE_PATH)\n",
        "\n",
        "# It's good to print out the value if you are not sure \n",
        "print(\"PROJECT_PATH: \", PROJECT_PATH)   \n",
        "\n",
        "# In case we haven't created the folder already; we will create a folder in the project path \n",
        "!mkdir \"{PROJECT_PATH}\"    \n",
        "\n",
        "GIT_PATH = \"https://\" + GIT_TOKEN + \"@github.com/\" + GIT_USERNAME + \"/\" + GIT_REPOSITORY + \".git\"\n",
        "print(\"GIT_PATH: \", GIT_PATH)"
      ],
      "execution_count": null,
      "outputs": []
    },
    {
      "cell_type": "code",
      "metadata": {
        "id": "ojU0mjgvt7I3"
      },
      "source": [
        "%cd \"{PROJECT_PATH}\"\n",
        "!git clone \"{GIT_PATH}\" # clone the github repository"
      ],
      "execution_count": null,
      "outputs": []
    }
  ]
}