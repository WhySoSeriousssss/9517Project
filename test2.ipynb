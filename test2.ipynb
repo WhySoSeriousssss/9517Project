{
 "cells": [
  {
   "cell_type": "code",
   "execution_count": 1,
   "id": "2a3ca472",
   "metadata": {},
   "outputs": [],
   "source": [
    "import glob\n",
    "import json"
   ]
  },
  {
   "cell_type": "code",
   "execution_count": 6,
   "id": "9894f3d5",
   "metadata": {},
   "outputs": [],
   "source": [
    "res = []\n",
    "for i in range(1, 3):\n",
    "    with open(f'dataset/velocity/custom/{i}/annotation.json') as f:\n",
    "        annotation = json.load(f)\n",
    "        res += annotation\n",
    "with open(f'dataset/velocity/velocity_training.json', 'w') as f:\n",
    "    json.dump(res, f, ensure_ascii=False)"
   ]
  },
  {
   "cell_type": "code",
   "execution_count": null,
   "id": "4f0c7e79",
   "metadata": {},
   "outputs": [],
   "source": []
  }
 ],
 "metadata": {
  "kernelspec": {
   "display_name": "Python 3",
   "language": "python",
   "name": "python3"
  },
  "language_info": {
   "codemirror_mode": {
    "name": "ipython",
    "version": 3
   },
   "file_extension": ".py",
   "mimetype": "text/x-python",
   "name": "python",
   "nbconvert_exporter": "python",
   "pygments_lexer": "ipython3",
   "version": "3.7.9"
  }
 },
 "nbformat": 4,
 "nbformat_minor": 5
}
